{
 "cells": [
  {
   "cell_type": "code",
   "execution_count": 1,
   "id": "98f50f73-1f13-459f-b1ce-5dfd29cd8e76",
   "metadata": {
    "tags": []
   },
   "outputs": [],
   "source": [
    "import joblib\n",
    "import pandas as pd\n",
    "from google.cloud import storage\n",
    "import os"
   ]
  },
  {
   "cell_type": "code",
   "execution_count": 2,
   "id": "44f2d581-0965-4d37-9a36-230f4f4c2a6b",
   "metadata": {
    "tags": []
   },
   "outputs": [],
   "source": [
    "PROJECT_ID = !gcloud config get-value project\n",
    "PROJECT_ID = PROJECT_ID[0]\n",
    "OUTPUT_BUCKET = f\"gs://{PROJECT_ID}-iris-output\""
   ]
  },
  {
   "cell_type": "code",
   "execution_count": 3,
   "id": "d2d1cf27-352d-4602-9b71-0f178fb31c00",
   "metadata": {
    "tags": []
   },
   "outputs": [
    {
     "name": "stdout",
     "output_type": "stream",
     "text": [
      "gs://mlops-474118-iris-output/artifacts_20251005-065216/model.joblib\n"
     ]
    }
   ],
   "source": [
    "MODEL_PATH = f\"{OUTPUT_BUCKET}/artifacts_20251005-065216/model.joblib\"\n",
    "print(MODEL_PATH)"
   ]
  },
  {
   "cell_type": "code",
   "execution_count": 4,
   "id": "ba21c90f-680b-41c1-b50d-0da2a0075b69",
   "metadata": {
    "tags": []
   },
   "outputs": [
    {
     "name": "stdout",
     "output_type": "stream",
     "text": [
      "Copying gs://mlops-474118-iris-output/artifacts_20251005-065216/model.joblib...\n",
      "/ [1 files][183.0 KiB/183.0 KiB]                                                \n",
      "Operation completed over 1 objects/183.0 KiB.                                    \n"
     ]
    }
   ],
   "source": [
    "# Load model from GCS\n",
    "!gsutil cp $MODEL_PATH ./model.joblib\n",
    "model = joblib.load(\"model.joblib\")"
   ]
  },
  {
   "cell_type": "code",
   "execution_count": 5,
   "id": "8023a267-866b-47a5-8391-d6e45c7f2aca",
   "metadata": {
    "tags": []
   },
   "outputs": [
    {
     "name": "stdout",
     "output_type": "stream",
     "text": [
      "[('versicolor', 'versicolor'), ('setosa', 'setosa'), ('setosa', 'setosa'), ('setosa', 'setosa'), ('setosa', 'setosa'), ('virginica', 'virginica'), ('virginica', 'virginica'), ('setosa', 'setosa'), ('versicolor', 'versicolor'), ('versicolor', 'versicolor')]\n"
     ]
    }
   ],
   "source": [
    "# Applies it to evaluation/test data, and outputs predictions.\n",
    "eval_data = pd.read_csv(f\"gs://{PROJECT_ID}-iris-data/iris.csv\").sample(10)\n",
    "preds = model.predict(eval_data.drop(\"species\", axis=1))\n",
    "\n",
    "#prints predictions with true labels\n",
    "print(list(zip(preds, eval_data[\"species\"])))"
   ]
  }
 ],
 "metadata": {
  "environment": {
   "kernel": "conda-base-py",
   "name": "workbench-notebooks.m133",
   "type": "gcloud",
   "uri": "us-docker.pkg.dev/deeplearning-platform-release/gcr.io/workbench-notebooks:m133"
  },
  "kernelspec": {
   "display_name": "Python 3 (ipykernel)",
   "language": "python",
   "name": "conda-base-py"
  },
  "language_info": {
   "codemirror_mode": {
    "name": "ipython",
    "version": 3
   },
   "file_extension": ".py",
   "mimetype": "text/x-python",
   "name": "python",
   "nbconvert_exporter": "python",
   "pygments_lexer": "ipython3",
   "version": "3.10.18"
  }
 },
 "nbformat": 4,
 "nbformat_minor": 5
}
